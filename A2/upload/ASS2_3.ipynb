{
 "cells": [
  {
   "cell_type": "markdown",
   "metadata": {},
   "source": [
    "# Name: Gengcong Yan\n",
    "# Student Number: 1009903"
   ]
  },
  {
   "cell_type": "code",
   "execution_count": 20,
   "metadata": {},
   "outputs": [],
   "source": [
    "import pandas as pd\n",
    "import numpy as np\n",
    "import matplotlib.pyplot as plt\n",
    "\n",
    "from sklearn.metrics.pairwise import euclidean_distances\n",
    "from sklearn.neighbors import kneighbors_graph\n",
    "from sklearn.metrics import silhouette_score,davies_bouldin_score,normalized_mutual_info_score\n",
    "from sklearn.cluster import KMeans, SpectralClustering"
   ]
  },
  {
   "cell_type": "markdown",
   "metadata": {},
   "source": [
    "# Task 3"
   ]
  },
  {
   "cell_type": "code",
   "execution_count": 8,
   "metadata": {},
   "outputs": [
    {
     "name": "stdout",
     "output_type": "stream",
     "text": [
      "       X       Y\n",
      "1 -6.244  6.6637\n",
      "2 -8.194  7.5372\n",
      "3  1.732 -0.6362\n",
      "4 -6.137 -5.1643\n",
      "5 -7.424  6.4897\n",
      "   Class\n",
      "1    0.0\n",
      "2    0.0\n",
      "3    2.0\n",
      "4    1.0\n",
      "5    0.0\n"
     ]
    },
    {
     "data": {
      "text/plain": [
       "X    float64\n",
       "Y    float64\n",
       "dtype: object"
      ]
     },
     "execution_count": 8,
     "metadata": {},
     "output_type": "execute_result"
    }
   ],
   "source": [
    "# prepare data\n",
    "\n",
    "balldata = pd.read_csv('balls.txt', sep=\",\", header=None)\n",
    "balldata.columns = [\"X\", \"Y\", \"Class\", ]\n",
    "\n",
    "balldata=balldata[1:].astype(\"float64\")\n",
    "\n",
    "balldata_train=balldata[[\"X\",\"Y\"]]\n",
    "balldata_ground=balldata[[\"Class\"]]\n",
    "\n",
    "print(balldata_train.head())\n",
    "\n",
    "print(balldata_ground.head())\n",
    "\n",
    "balldata_train.dtypes"
   ]
  },
  {
   "cell_type": "code",
   "execution_count": 10,
   "metadata": {},
   "outputs": [],
   "source": [
    "def Compute_indexs_KM(data,ground,min,max):\n",
    "    print(\"Kmeans\")\n",
    "    indexs=[]\n",
    "    for numc in range(min,max+1):\n",
    "\n",
    "        KM = KMeans(n_clusters=numc)\n",
    "        predicted_labels=KM.fit_predict(data)\n",
    "        # print(\"Predicted_labels:\\n\",predicted_labels)\n",
    "\n",
    "        silhouette_avg = silhouette_score(data, predicted_labels)\n",
    "        dh=davies_bouldin_score(data, predicted_labels)\n",
    "        \n",
    "        label_true=ground.to_numpy().reshape(1,-1)[0]\n",
    "        nmi=normalized_mutual_info_score(label_true,predicted_labels)\n",
    "        indexs.append([silhouette_avg,dh,nmi])\n",
    "        # print(\"For n_clusters={}, SI={},DB={},NMI={}\".format(numc,round(silhouette_avg,3),round(dh,3),round(nmi,3)))\n",
    "    \n",
    "    return np.round(pd.DataFrame(indexs,columns=[\"SI\",\"DB\",\"NMI\"]),3)\n",
    "\n",
    "def Compute_indexs_SC(data,ground,min,max,method):\n",
    "    print(\"Spectral Cluster with \"+method)\n",
    "    indexs=[]\n",
    "    for numc in range(min,max+1):\n",
    "\n",
    "        SC= SpectralClustering(n_clusters=numc,affinity=method)\n",
    "        predicted_labels=SC.fit_predict(data)\n",
    "        # print(\"Predicted_labels:\\n\",predicted_labels)\n",
    "\n",
    "        silhouette_avg = silhouette_score(data, predicted_labels)\n",
    "        dh=davies_bouldin_score(data, predicted_labels)\n",
    "        \n",
    "        label_true=ground.to_numpy().reshape(1,-1)[0]\n",
    "        nmi=normalized_mutual_info_score(label_true,predicted_labels)\n",
    "        indexs.append([silhouette_avg,dh,nmi])\n",
    "        # print(\"For n_clusters={}, SI={},DB={},NMI={}\".format(numc,round(silhouette_avg,3),round(dh,3),round(nmi,3)))\n",
    "    \n",
    "    return np.round(pd.DataFrame(indexs,columns=[\"SI\",\"DB\",\"NMI\"]),3)"
   ]
  },
  {
   "cell_type": "code",
   "execution_count": 11,
   "metadata": {},
   "outputs": [
    {
     "name": "stdout",
     "output_type": "stream",
     "text": [
      "Kmeans\n",
      "      SI     DB    NMI\n",
      "0  0.668  0.523  0.735\n",
      "1  0.902  0.136  1.000\n",
      "2  0.710  0.653  0.905\n",
      "3  0.517  0.947  0.831\n",
      "Spectral Cluster with laplacian\n",
      "      SI     DB    NMI\n",
      "0  0.668  0.523  0.735\n",
      "1  0.902  0.136  1.000\n",
      "2  0.708  0.657  0.904\n",
      "3  0.514  0.976  0.827\n",
      "Spectral Cluster with rbf\n",
      "      SI     DB    NMI\n",
      "0  0.553  0.764  0.732\n",
      "1  0.902  0.136  1.000\n",
      "2  0.711  0.653  0.905\n",
      "3  0.518  0.960  0.830\n"
     ]
    }
   ],
   "source": [
    "KM=Compute_indexs_KM(balldata_train, balldata_ground,2,5)\n",
    "print(KM)\n",
    "\n",
    "SC_With_Laplacian=Compute_indexs_SC(balldata_train,balldata_ground,2,5,method=\"laplacian\")\n",
    "print(SC_With_Laplacian)\n",
    "\n",
    "SC_With_RBF=Compute_indexs_SC(balldata_train,balldata_ground,2,5,method=\"rbf\")\n",
    "print(SC_With_RBF)"
   ]
  },
  {
   "cell_type": "code",
   "execution_count": 42,
   "metadata": {},
   "outputs": [
    {
     "data": {
      "text/plain": [
       "array([[1.   , 0.059, 0.   , ..., 0.   , 0.   , 0.   ],\n",
       "       [0.059, 1.   , 0.   , ..., 0.   , 0.   , 0.   ],\n",
       "       [0.   , 0.   , 1.   , ..., 0.06 , 0.187, 0.142],\n",
       "       ...,\n",
       "       [0.   , 0.   , 0.06 , ..., 1.   , 0.206, 0.367],\n",
       "       [0.   , 0.   , 0.187, ..., 0.206, 1.   , 0.563],\n",
       "       [0.   , 0.   , 0.142, ..., 0.367, 0.563, 1.   ]])"
      ]
     },
     "execution_count": 42,
     "metadata": {},
     "output_type": "execute_result"
    }
   ],
   "source": [
    "np.round(SC.affinity_matrix_,3)"
   ]
  },
  {
   "cell_type": "code",
   "execution_count": 25,
   "metadata": {},
   "outputs": [],
   "source": [
    "# KM = KMeans(n_clusters=5)\n",
    "# predicted_labels=KM.fit_predict(balldata_train)\n",
    "\n",
    "SC= SpectralClustering(n_clusters=5,affinity=\"rbf\")\n",
    "predicted_labels=SC.fit_predict(balldata_train)"
   ]
  },
  {
   "cell_type": "code",
   "execution_count": 24,
   "metadata": {},
   "outputs": [
    {
     "data": {
      "text/plain": [
       "<matplotlib.collections.PathCollection at 0x1ee6eb1c7f0>"
      ]
     },
     "execution_count": 24,
     "metadata": {},
     "output_type": "execute_result"
    },
    {
     "data": {
      "image/png": "[encoded data removed]",
      "text/plain": [
       "<Figure size 432x288 with 1 Axes>"
      ]
     },
     "metadata": {
      "needs_background": "light"
     },
     "output_type": "display_data"
    }
   ],
   "source": [
    "plt.title(\"Clustering K=3\")\n",
    "plt.scatter(balldata_train[[\"X\"]], balldata_train[[\"Y\"]], c=predicted_labels)\n",
    "\n",
    "\n"
   ]
  },
  {
   "cell_type": "markdown",
   "metadata": {},
   "source": [
    "# Data: spirals.txt"
   ]
  },
  {
   "cell_type": "code",
   "execution_count": 4,
   "metadata": {},
   "outputs": [
    {
     "name": "stdout",
     "output_type": "stream",
     "text": [
      "       X     Y\n",
      "1  31.95  7.95\n",
      "2  31.15  7.30\n",
      "3  30.45  6.65\n",
      "4  29.70  6.00\n",
      "5  28.90  5.55\n",
      "   Class\n",
      "1    3.0\n",
      "2    3.0\n",
      "3    3.0\n",
      "4    3.0\n",
      "5    3.0\n"
     ]
    }
   ],
   "source": [
    "# prepare data\n",
    "\n",
    "sprialsdata = pd.read_csv('spirals.txt', sep=\",\", header=None)\n",
    "sprialsdata.columns = [\"X\", \"Y\", \"Class\", ]\n",
    "sprialsdata=sprialsdata[1:].astype(\"float64\")\n",
    "\n",
    "sprialsdata_train=sprialsdata[[\"X\",\"Y\"]]\n",
    "sprialsdata_ground=sprialsdata[[\"Class\"]]\n",
    "\n",
    "print(sprialsdata_train.head())\n",
    "\n",
    "print(sprialsdata_ground.head())\n"
   ]
  },
  {
   "cell_type": "code",
   "execution_count": 27,
   "metadata": {},
   "outputs": [
    {
     "name": "stdout",
     "output_type": "stream",
     "text": [
      "Kmeans\n",
      "      SI     DB    NMI\n",
      "0  0.348  1.168  0.001\n",
      "1  0.360  0.880  0.000\n",
      "2  0.354  0.881  0.003\n",
      "3  0.347  0.895  0.009\n",
      "Spectral Cluster with laplacian\n",
      "      SI     DB    NMI\n",
      "0  0.345  1.173  0.000\n",
      "1  0.362  0.896  0.002\n",
      "2  0.330  0.927  0.052\n",
      "3  0.279  1.818  0.134\n",
      "Spectral Cluster with rbf\n",
      "      SI     DB    NMI\n",
      "0  0.025  6.314  0.729\n",
      "1  0.001  5.882  1.000\n",
      "2 -0.012  6.914  0.910\n",
      "3  0.015  5.459  0.833\n"
     ]
    }
   ],
   "source": [
    "KM=Compute_indexs_KM(sprialsdata_train, sprialsdata_ground,2,5)\n",
    "print(KM)\n",
    "\n",
    "SC_With_Laplacian=Compute_indexs_SC(sprialsdata_train, sprialsdata_ground,2,5,method=\"laplacian\")\n",
    "print(SC_With_Laplacian)\n",
    "\n",
    "SC_With_RBF=Compute_indexs_SC(sprialsdata_train, sprialsdata_ground,2,5,method=\"rbf\")\n",
    "print(SC_With_RBF)"
   ]
  },
  {
   "cell_type": "code",
   "execution_count": 40,
   "metadata": {},
   "outputs": [
    {
     "data": {
      "text/plain": [
       "<matplotlib.collections.PathCollection at 0x1ee71980c88>"
      ]
     },
     "execution_count": 40,
     "metadata": {},
     "output_type": "execute_result"
    },
    {
     "data": {
      "image/png": "[encoded data removed]",
      "text/plain": [
       "<Figure size 432x288 with 1 Axes>"
      ]
     },
     "metadata": {
      "needs_background": "light"
     },
     "output_type": "display_data"
    }
   ],
   "source": [
    "KM = KMeans(n_clusters=3)\n",
    "predicted_labels=KM.fit_predict(sprialsdata_train)\n",
    "\n",
    "# SC= SpectralClustering(n_clusters=3,affinity=\"laplacian\")\n",
    "# predicted_labels=SC.fit_predict(sprialsdata_train)\n",
    "\n",
    "# SC= SpectralClustering(n_clusters=3,affinity=\"rbf\")\n",
    "# predicted_labels=SC.fit_predict(sprialsdata_train)\n",
    "\n",
    "plt.title(\"Clustering K=3\")\n",
    "plt.scatter(sprialsdata_train[[\"X\"]], sprialsdata_train[[\"Y\"]], c=predicted_labels)"
   ]
  },
  {
   "cell_type": "markdown",
   "metadata": {},
   "source": [
    "# Task 4"
   ]
  },
  {
   "cell_type": "code",
   "execution_count": 33,
   "metadata": {},
   "outputs": [],
   "source": [
    "def Gauss_sim_2d(P1,P2,gamma=1.0):\n",
    "    dis=np.linalg.norm(P1-P2)\n",
    "    return np.exp(-gamma * dis ** 2)\n",
    "\n",
    "\n",
    "def new_validation_index(data,pred_labels):\n",
    "    new_data=data.to_numpy().astype(\"float64\")\n",
    "    lens=len(new_data)\n",
    "    T=0\n",
    "    for i in range(lens):\n",
    "        a,b=0,0\n",
    "        for j in range(lens):\n",
    "            if j!=i:\n",
    "                sim=Gauss_sim_2d(new_data[i],new_data[j])  \n",
    "                a+=(pred_labels[i]==pred_labels[j])*sim\n",
    "                b+=sim\n",
    "        T+=a/b\n",
    "    T=T/lens\n",
    "    return T\n",
    "\n",
    "def indexs_using_neighbour(data,pred_labels,n_nghbours=20):\n",
    "\n",
    "    kg=kneighbors_graph(sprialsdata_train,n_neighbors=n_nghbours)\n",
    "\n",
    "    new_data=data.to_numpy().astype(\"float64\")\n",
    "    lens=len(new_data)\n",
    "    T=0\n",
    "    for i in range(lens):\n",
    "        a,b=0,0\n",
    "        for j in range(lens):\n",
    "            if j!=i:\n",
    "                sim=Gauss_sim_2d(new_data[i],new_data[j])  \n",
    "                a+= kg[i,j] *(pred_labels[i]==pred_labels[j])*sim\n",
    "                b+=kg[i,j] * sim\n",
    "        T+=a/b\n",
    "    T=T/lens\n",
    "    return T\n",
    "    \n",
    "    "
   ]
  },
  {
   "cell_type": "code",
   "execution_count": 34,
   "metadata": {},
   "outputs": [
    {
     "data": {
      "text/plain": [
       "[1.0, 1.0, 0.9965, 0.9921]"
      ]
     },
     "execution_count": 34,
     "metadata": {},
     "output_type": "execute_result"
    }
   ],
   "source": [
    "res=[]\n",
    "for numc in range(2,6):\n",
    "\n",
    "    SC= SpectralClustering(n_clusters=numc,affinity=\"rbf\")\n",
    "    predicted_labels=SC.fit_predict(sprialsdata_train)\n",
    "\n",
    "    t=new_validation_index(sprialsdata_train,predicted_labels)\n",
    "    res.append( round(t,4) )\n",
    "\n",
    "res"
   ]
  },
  {
   "cell_type": "code",
   "execution_count": 35,
   "metadata": {},
   "outputs": [
    {
     "data": {
      "text/plain": [
       "[0.9782, 0.975, 0.9701, 0.9592]"
      ]
     },
     "execution_count": 35,
     "metadata": {},
     "output_type": "execute_result"
    }
   ],
   "source": [
    "res=[]\n",
    "for numc in range(2,6):\n",
    "\n",
    "    SC= SpectralClustering(n_clusters=numc,affinity=\"laplacian\")\n",
    "    predicted_labels=SC.fit_predict(sprialsdata_train)\n",
    "\n",
    "    t=new_validation_index(sprialsdata_train,predicted_labels)\n",
    "    res.append( round(t,4) )\n",
    "\n",
    "res"
   ]
  },
  {
   "cell_type": "code",
   "execution_count": 36,
   "metadata": {},
   "outputs": [
    {
     "data": {
      "text/plain": [
       "[0.9725, 0.9434, 0.9492, 0.9418]"
      ]
     },
     "execution_count": 36,
     "metadata": {},
     "output_type": "execute_result"
    }
   ],
   "source": [
    "res=[]\n",
    "for numc in range(2,6):\n",
    "\n",
    "    KM = KMeans(n_clusters=numc)\n",
    "    predicted_labels=KM.fit_predict(sprialsdata_train)\n",
    "\n",
    "    t=new_validation_index(sprialsdata_train,predicted_labels)\n",
    "    res.append(round(t,4))\n",
    "\n",
    "res"
   ]
  },
  {
   "cell_type": "code",
   "execution_count": 26,
   "metadata": {},
   "outputs": [
    {
     "data": {
      "text/plain": [
       "[0.9733, 0.9617, 0.9555, 0.9453]"
      ]
     },
     "execution_count": 26,
     "metadata": {},
     "output_type": "execute_result"
    }
   ],
   "source": [
    "res=[]\n",
    "for numc in range(2,6):\n",
    "\n",
    "    KM = KMeans(n_clusters=numc)\n",
    "    predicted_labels=KM.fit_predict(sprialsdata_train)\n",
    "\n",
    "    t=indexs_using_neighbour(sprialsdata_train,predicted_labels,5)\n",
    "    res.append(round(t,4))\n",
    "\n",
    "res"
   ]
  },
  {
   "cell_type": "markdown",
   "metadata": {},
   "source": [
    "# n=20 [0.9718, 0.9487, 0.9509, 0.9427] kmeans\n",
    "# n=10 [0.9726, 0.9484, 0.9493, 0.942]  kmeans\n",
    "# n=5  [0.9733, 0.9617, 0.9555, 0.9453] kmeans\n",
    "\n",
    "# n=20 [1.0, 1.0, 0.9965, 0.9921] sc-rbf\n",
    "# n=10 [0.9895, 1.0, 0.9965, 0.9921] sc-rbf\n",
    "# n=5  1.0, 1.0, 0.9965, 0.9923  sc-rbf"
   ]
  },
  {
   "cell_type": "code",
   "execution_count": 28,
   "metadata": {},
   "outputs": [
    {
     "data": {
      "text/plain": [
       "[1.0, 1.0, 0.9965, 0.9923]"
      ]
     },
     "execution_count": 28,
     "metadata": {},
     "output_type": "execute_result"
    }
   ],
   "source": [
    "res=[]\n",
    "for numc in range(2,6):\n",
    "\n",
    "    SC= SpectralClustering(n_clusters=numc,affinity=\"rbf\")\n",
    "    predicted_labels=SC.fit_predict(sprialsdata_train)\n",
    "\n",
    "    t=indexs_using_neighbour(sprialsdata_train,predicted_labels,5)\n",
    "    res.append( round(t,4) )\n",
    "\n",
    "res"
   ]
  },
  {
   "cell_type": "code",
   "execution_count": 5,
   "metadata": {},
   "outputs": [],
   "source": [
    "kg=kneighbors_graph(sprialsdata_train,3)"
   ]
  }
 ],
 "metadata": {
  "interpreter": {
   "hash": "07efdcd4b820c98a756949507a4d29d7862823915ec7477944641bea022f4f62"
  },
  "kernelspec": {
   "display_name": "Python 3.6.13 64-bit ('base': conda)",
   "name": "python3"
  },
  "language_info": {
   "codemirror_mode": {
    "name": "ipython",
    "version": 3
   },
   "file_extension": ".py",
   "mimetype": "text/x-python",
   "name": "python",
   "nbconvert_exporter": "python",
   "pygments_lexer": "ipython3",
   "version": "3.6.13"
  },
  "orig_nbformat": 4
 },
 "nbformat": 4,
 "nbformat_minor": 2
}
