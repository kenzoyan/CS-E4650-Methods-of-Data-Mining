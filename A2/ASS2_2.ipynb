{
 "cells": [
  {
   "cell_type": "markdown",
   "metadata": {},
   "source": [
    "# Name: Gengcong Yan\n",
    "# Student Number: 1009903"
   ]
  },
  {
   "cell_type": "code",
   "execution_count": 2,
   "metadata": {},
   "outputs": [],
   "source": [
    "import pandas as pd\n",
    "import numpy as np\n",
    "import matplotlib.pyplot as plt\n",
    "\n",
    "\n",
    "from sklearn.cluster import AgglomerativeClustering\n",
    "from scipy.cluster.hierarchy import dendrogram\n",
    "from scipy.cluster  import hierarchy"
   ]
  },
  {
   "cell_type": "markdown",
   "metadata": {},
   "source": [
    "# Task 2"
   ]
  },
  {
   "cell_type": "code",
   "execution_count": 3,
   "metadata": {},
   "outputs": [],
   "source": [
    "# prepare data\n",
    "\n",
    "raw_data=[[\"coffee\", \"milk\", \"sugar\", \"eggs\", \"bread\"],\n",
    "            [\"bread\",\"coffee\", \"butter\", 'milk', \"eggs\"],\n",
    "            [\"sugar\", \"cheese\", \"cream\", \"ham\", \"salt\"],\n",
    "            [\"eggs\", \"cheese\", \"apples\", \"bread\", \"butter\"],\n",
    "            [\"apples\", \"bread\", \"eggs\", \"butter\", \"tea\"],\n",
    "            [\"cheese\", 'bread', \"coffee\", \"milk\", \"tea\"],\n",
    "            [\"apples\", \"salt\", \"butter\", \"ham\", \"coffee\"],\n",
    "            [\"salt\", \"butter\", \"bread\", \"ham\", \"apples\"]]\n"
   ]
  },
  {
   "cell_type": "code",
   "execution_count": 4,
   "metadata": {},
   "outputs": [],
   "source": [
    "def jaccard_dis(arr1, arr2): \n",
    "    a = set(arr1) \n",
    "    b = set(arr2)\n",
    "    c = a.intersection(b)\n",
    "    return round(1- float(len(c)) / (len(a) + len(b) - len(c)),3)\n",
    "\n",
    "def get_all_jdis(num,data):\n",
    "    j_dis=np.zeros((num,num))\n",
    "    oned=[]\n",
    "    for i in range(num):\n",
    "        temp=[]\n",
    "        for j in range(i+1,num):\n",
    "            j_dis[i][j]=j_dis[j][i]=jaccard_dis(data[i],data[j])\n",
    "            oned.append(j_dis[i][j])\n",
    "    return oned,pd.DataFrame(j_dis)\n"
   ]
  },
  {
   "cell_type": "code",
   "execution_count": 5,
   "metadata": {},
   "outputs": [
    {
     "data": {
      "image/png": "[encoded data removed]",
      "text/plain": [
       "<Figure size 432x288 with 1 Axes>"
      ]
     },
     "metadata": {
      "needs_background": "light"
     },
     "output_type": "display_data"
    }
   ],
   "source": [
    "np.random.shuffle(raw_data)\n",
    "oned,j_dis=get_all_jdis(8,raw_data)\n",
    "\n",
    "Z = hierarchy.linkage(oned, 'complete')\n",
    "plt.figure()\n",
    "dn = hierarchy.dendrogram(Z)\n",
    "\n",
    "plt.title(\"Dendrogram\")\n",
    "plt.xlabel(\"Transcations\")\n",
    "plt.show()"
   ]
  },
  {
   "cell_type": "code",
   "execution_count": 6,
   "metadata": {},
   "outputs": [
    {
     "data": {
      "text/plain": [
       "array([[ 0.   ,  6.   ,  0.333,  2.   ],\n",
       "       [ 1.   ,  3.   ,  0.333,  2.   ],\n",
       "       [ 2.   ,  5.   ,  0.333,  2.   ],\n",
       "       [ 4.   , 10.   ,  0.571,  3.   ],\n",
       "       [ 8.   ,  9.   ,  0.75 ,  4.   ],\n",
       "       [11.   , 12.   ,  0.889,  7.   ],\n",
       "       [ 7.   , 13.   ,  1.   ,  8.   ]])"
      ]
     },
     "execution_count": 6,
     "metadata": {},
     "output_type": "execute_result"
    }
   ],
   "source": [
    "Z"
   ]
  },
  {
   "cell_type": "code",
   "execution_count": 96,
   "metadata": {},
   "outputs": [
    {
     "data": {
      "image/png": "[encoded data removed]",
      "text/plain": [
       "<Figure size 432x288 with 1 Axes>"
      ]
     },
     "metadata": {
      "needs_background": "light"
     },
     "output_type": "display_data"
    }
   ],
   "source": [
    "np.random.shuffle(raw_data)\n",
    "oned,j_dis=get_all_jdis(8,raw_data)\n",
    "# np.random.shuffle(oned)\n",
    "\n",
    "Z = hierarchy.linkage(oned, 'single')\n",
    "plt.figure()\n",
    "dn = hierarchy.dendrogram(Z)\n",
    "\n",
    "plt.title(\"Dendrogram\")\n",
    "plt.xlabel(\"Transcations\")\n",
    "plt.show()"
   ]
  }
 ],
 "metadata": {
  "interpreter": {
   "hash": "07efdcd4b820c98a756949507a4d29d7862823915ec7477944641bea022f4f62"
  },
  "kernelspec": {
   "display_name": "Python 3.6.13 64-bit ('base': conda)",
   "name": "python3"
  },
  "language_info": {
   "codemirror_mode": {
    "name": "ipython",
    "version": 3
   },
   "file_extension": ".py",
   "mimetype": "text/x-python",
   "name": "python",
   "nbconvert_exporter": "python",
   "pygments_lexer": "ipython3",
   "version": "3.6.13"
  },
  "orig_nbformat": 4
 },
 "nbformat": 4,
 "nbformat_minor": 2
}
