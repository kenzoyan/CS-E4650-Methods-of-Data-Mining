{
 "cells": [
  {
   "cell_type": "code",
   "execution_count": 1,
   "source": [
    "import pandas as pd\r\n",
    "import numpy as np\r\n",
    "from sklearn.cluster import KMeans\r\n",
    "from sklearn import preprocessing\r\n",
    "import seaborn as sns\r\n",
    "import matplotlib.pyplot as plt\r\n",
    "import math\r\n",
    "import time\r\n",
    "\r\n",
    "# from sklearn.decomposition import PCA"
   ],
   "outputs": [],
   "metadata": {}
  },
  {
   "cell_type": "markdown",
   "source": [
    "# Task4 Cows"
   ],
   "metadata": {}
  },
  {
   "cell_type": "code",
   "execution_count": 27,
   "source": [
    "data={\r\n",
    "    \"name\":[\"Clover\",\"Sunny\",\"Rose\",\"Daisy\",\"Strawberry\",\"Molly\"],\r\n",
    "    \"race\":[\"Holstein\",\"Ayrshir\",\"Holstein\",\"Ayrshir\",\"Finncattle\",\"Ayrshir\"],\r\n",
    "    \"age\" :[2,2,5,4,7,8],\r\n",
    "    \"milk\":[20,10,15,25,35,45],\r\n",
    "    \"character\":[\"lively\",\"kind\",\"calm\",\"calm\",\"calm\",\"kind\"],\r\n",
    "    \"music\":[\"rock\",\"rock\",\"country\",\"classical\",\"classical\",\"country\"]\r\n",
    "}\r\n",
    "\r\n",
    "cows=pd.DataFrame(data)\r\n",
    "\r\n",
    "cows\r\n"
   ],
   "outputs": [
    {
     "output_type": "execute_result",
     "data": {
      "text/html": [
       "<div>\n",
       "<style scoped>\n",
       "    .dataframe tbody tr th:only-of-type {\n",
       "        vertical-align: middle;\n",
       "    }\n",
       "\n",
       "    .dataframe tbody tr th {\n",
       "        vertical-align: top;\n",
       "    }\n",
       "\n",
       "    .dataframe thead th {\n",
       "        text-align: right;\n",
       "    }\n",
       "</style>\n",
       "<table border=\"1\" class=\"dataframe\">\n",
       "  <thead>\n",
       "    <tr style=\"text-align: right;\">\n",
       "      <th></th>\n",
       "      <th>name</th>\n",
       "      <th>race</th>\n",
       "      <th>age</th>\n",
       "      <th>milk</th>\n",
       "      <th>character</th>\n",
       "      <th>music</th>\n",
       "    </tr>\n",
       "  </thead>\n",
       "  <tbody>\n",
       "    <tr>\n",
       "      <th>0</th>\n",
       "      <td>Clover</td>\n",
       "      <td>Holstein</td>\n",
       "      <td>2</td>\n",
       "      <td>20</td>\n",
       "      <td>lively</td>\n",
       "      <td>rock</td>\n",
       "    </tr>\n",
       "    <tr>\n",
       "      <th>1</th>\n",
       "      <td>Sunny</td>\n",
       "      <td>Ayrshir</td>\n",
       "      <td>2</td>\n",
       "      <td>10</td>\n",
       "      <td>kind</td>\n",
       "      <td>rock</td>\n",
       "    </tr>\n",
       "    <tr>\n",
       "      <th>2</th>\n",
       "      <td>Rose</td>\n",
       "      <td>Holstein</td>\n",
       "      <td>5</td>\n",
       "      <td>15</td>\n",
       "      <td>calm</td>\n",
       "      <td>country</td>\n",
       "    </tr>\n",
       "    <tr>\n",
       "      <th>3</th>\n",
       "      <td>Daisy</td>\n",
       "      <td>Ayrshir</td>\n",
       "      <td>4</td>\n",
       "      <td>25</td>\n",
       "      <td>calm</td>\n",
       "      <td>classical</td>\n",
       "    </tr>\n",
       "    <tr>\n",
       "      <th>4</th>\n",
       "      <td>Strawberry</td>\n",
       "      <td>Finncattle</td>\n",
       "      <td>7</td>\n",
       "      <td>35</td>\n",
       "      <td>calm</td>\n",
       "      <td>classical</td>\n",
       "    </tr>\n",
       "    <tr>\n",
       "      <th>5</th>\n",
       "      <td>Molly</td>\n",
       "      <td>Ayrshir</td>\n",
       "      <td>8</td>\n",
       "      <td>45</td>\n",
       "      <td>kind</td>\n",
       "      <td>country</td>\n",
       "    </tr>\n",
       "  </tbody>\n",
       "</table>\n",
       "</div>"
      ],
      "text/plain": [
       "         name        race  age  milk character      music\n",
       "0      Clover    Holstein    2    20    lively       rock\n",
       "1       Sunny     Ayrshir    2    10      kind       rock\n",
       "2        Rose    Holstein    5    15      calm    country\n",
       "3       Daisy     Ayrshir    4    25      calm  classical\n",
       "4  Strawberry  Finncattle    7    35      calm  classical\n",
       "5       Molly     Ayrshir    8    45      kind    country"
      ]
     },
     "metadata": {},
     "execution_count": 27
    }
   ],
   "metadata": {}
  },
  {
   "cell_type": "code",
   "execution_count": 28,
   "source": [
    "cows[\"age_scaler\"]=(cows[\"age\"]-cows[\"age\"].min())/(cows[\"age\"].max()-cows[\"age\"].min())\r\n",
    "\r\n",
    "cows[\"milk_scaler\"]=(cows[\"milk\"]-cows[\"milk\"].min())/(cows[\"milk\"].max()-cows[\"milk\"].min())\r\n",
    "\r\n",
    "cows"
   ],
   "outputs": [
    {
     "output_type": "execute_result",
     "data": {
      "text/html": [
       "<div>\n",
       "<style scoped>\n",
       "    .dataframe tbody tr th:only-of-type {\n",
       "        vertical-align: middle;\n",
       "    }\n",
       "\n",
       "    .dataframe tbody tr th {\n",
       "        vertical-align: top;\n",
       "    }\n",
       "\n",
       "    .dataframe thead th {\n",
       "        text-align: right;\n",
       "    }\n",
       "</style>\n",
       "<table border=\"1\" class=\"dataframe\">\n",
       "  <thead>\n",
       "    <tr style=\"text-align: right;\">\n",
       "      <th></th>\n",
       "      <th>name</th>\n",
       "      <th>race</th>\n",
       "      <th>age</th>\n",
       "      <th>milk</th>\n",
       "      <th>character</th>\n",
       "      <th>music</th>\n",
       "      <th>age_scaler</th>\n",
       "      <th>milk_scaler</th>\n",
       "    </tr>\n",
       "  </thead>\n",
       "  <tbody>\n",
       "    <tr>\n",
       "      <th>0</th>\n",
       "      <td>Clover</td>\n",
       "      <td>Holstein</td>\n",
       "      <td>2</td>\n",
       "      <td>20</td>\n",
       "      <td>lively</td>\n",
       "      <td>rock</td>\n",
       "      <td>0.000000</td>\n",
       "      <td>0.285714</td>\n",
       "    </tr>\n",
       "    <tr>\n",
       "      <th>1</th>\n",
       "      <td>Sunny</td>\n",
       "      <td>Ayrshir</td>\n",
       "      <td>2</td>\n",
       "      <td>10</td>\n",
       "      <td>kind</td>\n",
       "      <td>rock</td>\n",
       "      <td>0.000000</td>\n",
       "      <td>0.000000</td>\n",
       "    </tr>\n",
       "    <tr>\n",
       "      <th>2</th>\n",
       "      <td>Rose</td>\n",
       "      <td>Holstein</td>\n",
       "      <td>5</td>\n",
       "      <td>15</td>\n",
       "      <td>calm</td>\n",
       "      <td>country</td>\n",
       "      <td>0.500000</td>\n",
       "      <td>0.142857</td>\n",
       "    </tr>\n",
       "    <tr>\n",
       "      <th>3</th>\n",
       "      <td>Daisy</td>\n",
       "      <td>Ayrshir</td>\n",
       "      <td>4</td>\n",
       "      <td>25</td>\n",
       "      <td>calm</td>\n",
       "      <td>classical</td>\n",
       "      <td>0.333333</td>\n",
       "      <td>0.428571</td>\n",
       "    </tr>\n",
       "    <tr>\n",
       "      <th>4</th>\n",
       "      <td>Strawberry</td>\n",
       "      <td>Finncattle</td>\n",
       "      <td>7</td>\n",
       "      <td>35</td>\n",
       "      <td>calm</td>\n",
       "      <td>classical</td>\n",
       "      <td>0.833333</td>\n",
       "      <td>0.714286</td>\n",
       "    </tr>\n",
       "    <tr>\n",
       "      <th>5</th>\n",
       "      <td>Molly</td>\n",
       "      <td>Ayrshir</td>\n",
       "      <td>8</td>\n",
       "      <td>45</td>\n",
       "      <td>kind</td>\n",
       "      <td>country</td>\n",
       "      <td>1.000000</td>\n",
       "      <td>1.000000</td>\n",
       "    </tr>\n",
       "  </tbody>\n",
       "</table>\n",
       "</div>"
      ],
      "text/plain": [
       "         name        race  age  milk character      music  age_scaler  \\\n",
       "0      Clover    Holstein    2    20    lively       rock    0.000000   \n",
       "1       Sunny     Ayrshir    2    10      kind       rock    0.000000   \n",
       "2        Rose    Holstein    5    15      calm    country    0.500000   \n",
       "3       Daisy     Ayrshir    4    25      calm  classical    0.333333   \n",
       "4  Strawberry  Finncattle    7    35      calm  classical    0.833333   \n",
       "5       Molly     Ayrshir    8    45      kind    country    1.000000   \n",
       "\n",
       "   milk_scaler  \n",
       "0     0.285714  \n",
       "1     0.000000  \n",
       "2     0.142857  \n",
       "3     0.428571  \n",
       "4     0.714286  \n",
       "5     1.000000  "
      ]
     },
     "metadata": {},
     "execution_count": 28
    }
   ],
   "metadata": {}
  },
  {
   "cell_type": "code",
   "execution_count": 29,
   "source": [
    "ndata=np.array(cows[[\"age_scaler\",\"milk_scaler\"]])\r\n",
    "\r\n",
    "ndata"
   ],
   "outputs": [
    {
     "output_type": "execute_result",
     "data": {
      "text/plain": [
       "array([[0.        , 0.28571429],\n",
       "       [0.        , 0.        ],\n",
       "       [0.5       , 0.14285714],\n",
       "       [0.33333333, 0.42857143],\n",
       "       [0.83333333, 0.71428571],\n",
       "       [1.        , 1.        ]])"
      ]
     },
     "metadata": {},
     "execution_count": 29
    }
   ],
   "metadata": {}
  },
  {
   "cell_type": "code",
   "execution_count": 51,
   "source": [
    "# Compute numerical similarity\r\n",
    "def get_numsim_M(ndata):\r\n",
    "    lens=len(ndata)\r\n",
    "\r\n",
    "    SM=np.zeros((lens,lens))\r\n",
    "\r\n",
    "    for i in range(lens):\r\n",
    "        j=i+1\r\n",
    "        while j <lens:\r\n",
    "            tep=(ndata[i][0]-ndata[j][0])**2+(ndata[i][1]-ndata[j][1])**2\r\n",
    "            tep=np.sqrt(tep)\r\n",
    "            SM[i][j]=SM[j][i]=tep\r\n",
    "            j=j+1\r\n",
    "    return SM.round(4)\r\n",
    "\r\n",
    "re=get_numsim_M(ndata)\r\n",
    "\r\n",
    "re     \r\n",
    "    "
   ],
   "outputs": [
    {
     "output_type": "execute_result",
     "data": {
      "text/plain": [
       "array([[0.    , 0.2857, 0.52  , 0.3627, 0.9371, 1.2289],\n",
       "       [0.2857, 0.    , 0.52  , 0.5429, 1.0976, 1.4142],\n",
       "       [0.52  , 0.52  , 0.    , 0.3308, 0.6615, 0.9923],\n",
       "       [0.3627, 0.5429, 0.3308, 0.    , 0.5759, 0.8781],\n",
       "       [0.9371, 1.0976, 0.6615, 0.5759, 0.    , 0.3308],\n",
       "       [1.2289, 1.4142, 0.9923, 0.8781, 0.3308, 0.    ]])"
      ]
     },
     "metadata": {},
     "execution_count": 51
    }
   ],
   "metadata": {}
  },
  {
   "cell_type": "markdown",
   "source": [
    "# Similarity for Categories"
   ],
   "metadata": {}
  },
  {
   "cell_type": "code",
   "execution_count": 31,
   "source": [
    "dic={\"Ayrshir\": 1/2,\"Holstein\": 1/3,\"Finncattle\": 1/6,\r\n",
    "        \"lively\":1/6,\"kind\":1/3,\"calm\":1/2,\r\n",
    "        \"rock\":1/3,\"country\":1/3,\"classical\":1/3}"
   ],
   "outputs": [],
   "metadata": {}
  },
  {
   "cell_type": "code",
   "execution_count": 32,
   "source": [
    "ccols=[\"race\",\"character\",\"music\"]\r\n",
    "cdata=np.array(cows[ccols])\r\n",
    "cdata"
   ],
   "outputs": [
    {
     "output_type": "execute_result",
     "data": {
      "text/plain": [
       "array([['Holstein', 'lively', 'rock'],\n",
       "       ['Ayrshir', 'kind', 'rock'],\n",
       "       ['Holstein', 'calm', 'country'],\n",
       "       ['Ayrshir', 'calm', 'classical'],\n",
       "       ['Finncattle', 'calm', 'classical'],\n",
       "       ['Ayrshir', 'kind', 'country']], dtype=object)"
      ]
     },
     "metadata": {},
     "execution_count": 32
    }
   ],
   "metadata": {}
  },
  {
   "cell_type": "code",
   "execution_count": 33,
   "source": [
    "def get_catsim_M(cdata,dic):\r\n",
    "    lens,f_num=cdata.shape\r\n",
    "\r\n",
    "    CM=np.zeros((lens,lens))\r\n",
    "\r\n",
    "    for i in range(lens):\r\n",
    "        j=i+1\r\n",
    "        while j <lens:\r\n",
    "            tep=0\r\n",
    "            for x in range(f_num):\r\n",
    "                if cdata[i][x]==cdata[j][x]:\r\n",
    "                    tep=tep+1-dic[cdata[i][x]]**2\r\n",
    "            CM[i][j]=CM[j][i]=1-tep/f_num\r\n",
    "            j=j+1\r\n",
    "    return CM.round(4)\r\n",
    "\r\n",
    "re=get_catsim_M(cdata,dic)\r\n",
    "\r\n",
    "re"
   ],
   "outputs": [
    {
     "output_type": "execute_result",
     "data": {
      "text/plain": [
       "array([[0.    , 0.7037, 0.7037, 1.    , 1.    , 1.    ],\n",
       "       [0.7037, 0.    , 1.    , 0.75  , 1.    , 0.4537],\n",
       "       [0.7037, 1.    , 0.    , 0.75  , 0.75  , 0.7037],\n",
       "       [1.    , 0.75  , 0.75  , 0.    , 0.4537, 0.75  ],\n",
       "       [1.    , 1.    , 0.75  , 0.4537, 0.    , 1.    ],\n",
       "       [1.    , 0.4537, 0.7037, 0.75  , 1.    , 0.    ]])"
      ]
     },
     "metadata": {},
     "execution_count": 33
    }
   ],
   "metadata": {}
  },
  {
   "cell_type": "markdown",
   "source": [
    "# Mix Similarity of number and category"
   ],
   "metadata": {}
  },
  {
   "cell_type": "code",
   "execution_count": 52,
   "source": [
    "numsim=get_numsim_M(ndata)\r\n",
    "catsim=get_catsim_M(cdata,dic)\r\n",
    "\r\n",
    "a=2/5\r\n",
    "\r\n",
    "mixSim=a*numsim/np.std(numsim)+(1-a)*catsim/np.std(catsim)\r\n",
    "mixSim=mixSim.round(3)\r\n",
    "mixSim"
   ],
   "outputs": [
    {
     "output_type": "execute_result",
     "data": {
      "text/plain": [
       "array([[0.   , 1.507, 1.735, 2.1  , 2.658, 2.941],\n",
       "       [1.507, 0.   , 2.253, 1.838, 2.814, 2.167],\n",
       "       [1.735, 2.253, 0.   , 1.632, 1.953, 2.194],\n",
       "       [2.1  , 1.838, 1.632, 0.   , 1.352, 2.164],\n",
       "       [2.658, 2.814, 1.953, 1.352, 0.   , 2.069],\n",
       "       [2.941, 2.167, 2.194, 2.164, 2.069, 0.   ]])"
      ]
     },
     "metadata": {},
     "execution_count": 52
    }
   ],
   "metadata": {}
  },
  {
   "cell_type": "code",
   "execution_count": 35,
   "source": [
    "def show_hist(data,bins):\r\n",
    "    x =[]\r\n",
    "    for i in range(6):\r\n",
    "        x.extend(data[i][i+1:6])\r\n",
    "    # print(x)\r\n",
    "    plt.hist(x, bins=bins)\r\n",
    "    plt.gca().set(title='Frequency Histogram', ylabel='Frequency')\r\n",
    "    plt.show()"
   ],
   "outputs": [],
   "metadata": {}
  },
  {
   "cell_type": "code",
   "execution_count": 62,
   "source": [
    "# numsim\r\n",
    "show_hist(numsim,8)"
   ],
   "outputs": [
    {
     "output_type": "display_data",
     "data": {
      "image/png": "[encoded data removed]",
      "text/plain": [
       "<Figure size 432x288 with 1 Axes>"
      ]
     },
     "metadata": {
      "needs_background": "light"
     }
    }
   ],
   "metadata": {}
  },
  {
   "cell_type": "code",
   "execution_count": 70,
   "source": [
    "# catsisim\r\n",
    "show_hist(catsim,6)"
   ],
   "outputs": [
    {
     "output_type": "display_data",
     "data": {
      "image/png": "[encoded data removed]",
      "text/plain": [
       "<Figure size 432x288 with 1 Axes>"
      ]
     },
     "metadata": {
      "needs_background": "light"
     }
    }
   ],
   "metadata": {}
  },
  {
   "cell_type": "code",
   "execution_count": 76,
   "source": [
    "#mixsim\r\n",
    "\r\n",
    "show_hist(mixSim,8)"
   ],
   "outputs": [
    {
     "output_type": "display_data",
     "data": {
      "image/png": "[encoded data removed]",
      "text/plain": [
       "<Figure size 432x288 with 1 Axes>"
      ]
     },
     "metadata": {
      "needs_background": "light"
     }
    }
   ],
   "metadata": {}
  }
 ],
 "metadata": {
  "orig_nbformat": 4,
  "language_info": {
   "name": "python",
   "version": "3.6.13",
   "mimetype": "text/x-python",
   "codemirror_mode": {
    "name": "ipython",
    "version": 3
   },
   "pygments_lexer": "ipython3",
   "nbconvert_exporter": "python",
   "file_extension": ".py"
  },
  "kernelspec": {
   "name": "python3",
   "display_name": "Python 3.6.13 64-bit ('base': conda)"
  },
  "interpreter": {
   "hash": "07efdcd4b820c98a756949507a4d29d7862823915ec7477944641bea022f4f62"
  }
 },
 "nbformat": 4,
 "nbformat_minor": 2
}