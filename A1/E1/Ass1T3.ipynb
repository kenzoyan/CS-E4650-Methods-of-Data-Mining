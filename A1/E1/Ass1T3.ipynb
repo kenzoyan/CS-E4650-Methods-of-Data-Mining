{
 "cells": [
  {
   "cell_type": "code",
   "execution_count": 1,
   "source": [
    "import pandas as pd\r\n",
    "import numpy as np\r\n",
    "from sklearn.cluster import KMeans\r\n",
    "from sklearn import preprocessing\r\n",
    "import seaborn as sns\r\n",
    "import matplotlib.pyplot as plt\r\n",
    "import math\r\n",
    "import time\r\n",
    "\r\n",
    "# from sklearn.decomposition import PCA"
   ],
   "outputs": [],
   "metadata": {}
  },
  {
   "cell_type": "markdown",
   "source": [
    "# task 3"
   ],
   "metadata": {}
  },
  {
   "cell_type": "code",
   "execution_count": 22,
   "source": [
    "def zeroMean(dataMat):\r\n",
    "    meanVal=np.mean(dataMat, axis=0)\r\n",
    "    newData=dataMat-meanVal\r\n",
    "    return newData,meanVal\r\n",
    "\r\n",
    "def pca(dataMat,n):\r\n",
    "    newData,meanVal=zeroMean(dataMat)\r\n",
    "    # print(newData)\r\n",
    "    covMat=np.cov(newData, rowvar=0)\r\n",
    "    print(covMat)\r\n",
    "    eigvals,eigVects=np.linalg.eig(np.mat(covMat))\r\n",
    "    eigValIndice=np.argsort(eigvals)\r\n",
    "    # print(eigValIndice)\r\n",
    "    n_eigvalIndice=eigValIndice[ -1:-(n+1):-1] # pick n values from last to start\r\n",
    "    print(n_eigvalIndice)\r\n",
    "    \r\n",
    "    # choose the smallest one\r\n",
    "    # n_eigvalIndice=1  # 1 is the index of the smallest eigenvalue\r\n",
    "    \r\n",
    "    n_eigvect=eigVects[ :,n_eigvalIndice]\r\n",
    "    print(n_eigvect)\r\n",
    "    lowDDataMat=newData*n_eigvect\r\n",
    "    reconMat=( lowDDataMat*n_eigvect.T)+meanVal\r\n",
    "    return eigvals,eigVects,lowDDataMat ,reconMat\r\n"
   ],
   "outputs": [],
   "metadata": {}
  },
  {
   "cell_type": "code",
   "execution_count": 23,
   "source": [
    "old_matrix=np.array([[0,1],[-1/2,3/2],[3/2,5/2],[1,3]])"
   ],
   "outputs": [],
   "metadata": {}
  },
  {
   "cell_type": "code",
   "execution_count": 26,
   "source": [
    "a,b,c,new_matrix=pca(old_matrix,2)\r\n"
   ],
   "outputs": [
    {
     "output_type": "stream",
     "name": "stdout",
     "text": [
      "[[0.83333333 0.66666667]\n",
      " [0.66666667 0.83333333]]\n",
      "[0 1]\n",
      "[[ 0.70710678 -0.70710678]\n",
      " [ 0.70710678  0.70710678]]\n"
     ]
    }
   ],
   "metadata": {}
  },
  {
   "cell_type": "code",
   "execution_count": 15,
   "source": [
    "b"
   ],
   "outputs": [
    {
     "output_type": "execute_result",
     "data": {
      "text/plain": [
       "matrix([[ 0.70710678, -0.70710678],\n",
       "        [ 0.70710678,  0.70710678]])"
      ]
     },
     "metadata": {},
     "execution_count": 15
    }
   ],
   "metadata": {}
  },
  {
   "cell_type": "markdown",
   "source": [
    "# a is eigenvalue"
   ],
   "metadata": {}
  },
  {
   "cell_type": "code",
   "execution_count": 49,
   "source": [
    "_,_,c,new_matrix=pca(old_matrix,2)\r\n",
    "c   # using largest"
   ],
   "outputs": [
    {
     "output_type": "stream",
     "name": "stdout",
     "text": [
      "[[0.83333333 0.66666667]\n",
      " [0.66666667 0.83333333]]\n",
      "[0 1]\n",
      "[[ 0.70710678 -0.70710678]\n",
      " [ 0.70710678  0.70710678]]\n"
     ]
    },
    {
     "output_type": "execute_result",
     "data": {
      "text/plain": [
       "matrix([[-1.06066017, -0.35355339],\n",
       "        [-1.06066017,  0.35355339],\n",
       "        [ 1.06066017, -0.35355339],\n",
       "        [ 1.06066017,  0.35355339]])"
      ]
     },
     "metadata": {},
     "execution_count": 49
    }
   ],
   "metadata": {}
  },
  {
   "cell_type": "code",
   "execution_count": 47,
   "source": [
    "onedim"
   ],
   "outputs": [
    {
     "output_type": "execute_result",
     "data": {
      "text/plain": [
       "matrix([[-1.06066017],\n",
       "        [-1.06066017],\n",
       "        [ 1.06066017],\n",
       "        [ 1.06066017]])"
      ]
     },
     "metadata": {},
     "execution_count": 47
    }
   ],
   "metadata": {}
  },
  {
   "cell_type": "code",
   "execution_count": 45,
   "source": [
    "new_matrix"
   ],
   "outputs": [
    {
     "output_type": "execute_result",
     "data": {
      "text/plain": [
       "matrix([[ 5.55111512e-17,  1.00000000e+00],\n",
       "        [-5.00000000e-01,  1.50000000e+00],\n",
       "        [ 1.50000000e+00,  2.50000000e+00],\n",
       "        [ 1.00000000e+00,  3.00000000e+00]])"
      ]
     },
     "metadata": {},
     "execution_count": 45
    }
   ],
   "metadata": {}
  },
  {
   "cell_type": "code",
   "execution_count": 33,
   "source": [
    "_,_,c,new_matrix=pca(old_matrix,1)\r\n",
    "c   #using smallest"
   ],
   "outputs": [
    {
     "output_type": "execute_result",
     "data": {
      "text/plain": [
       "matrix([[-0.35355339],\n",
       "        [ 0.35355339],\n",
       "        [-0.35355339],\n",
       "        [ 0.35355339]])"
      ]
     },
     "metadata": {},
     "execution_count": 33
    }
   ],
   "metadata": {}
  },
  {
   "cell_type": "markdown",
   "source": [
    "# C Euclidean Distance --their distance remains same wheather it's 1D or 2D"
   ],
   "metadata": {}
  },
  {
   "cell_type": "code",
   "execution_count": 10,
   "source": [
    "def get_dis_pairs(M):\r\n",
    "    lens=M.shape[0]\r\n",
    "    result=np.zeros((lens,lens))\r\n",
    "    for i in range(lens):\r\n",
    "        j=i+1\r\n",
    "        while(j<lens):\r\n",
    "            result[i][j]=np.linalg.norm(M[i]-M[j])\r\n",
    "            j=j+1\r\n",
    "    return result\r\n"
   ],
   "outputs": [],
   "metadata": {}
  },
  {
   "cell_type": "code",
   "execution_count": 50,
   "source": [
    "re1=get_dis_pairs(onedim)  # 1-D\r\n",
    "re2=get_dis_pairs(new_matrix) #2-D\r\n",
    "re3=get_dis_pairs(old_matrix)\r\n",
    "\r\n",
    "print(re3)\r\n",
    "print(re1)\r\n",
    "print(re2)\r\n",
    "\r\n",
    "print(c)\r\n",
    "print(new_matrix)"
   ],
   "outputs": [
    {
     "output_type": "stream",
     "name": "stdout",
     "text": [
      "[[0.         0.70710678 2.12132034 2.23606798]\n",
      " [0.         0.         2.23606798 2.12132034]\n",
      " [0.         0.         0.         0.70710678]\n",
      " [0.         0.         0.         0.        ]]\n",
      "[[0.         0.         2.12132034 2.12132034]\n",
      " [0.         0.         2.12132034 2.12132034]\n",
      " [0.         0.         0.         0.        ]\n",
      " [0.         0.         0.         0.        ]]\n",
      "[[0.         0.70710678 2.12132034 2.23606798]\n",
      " [0.         0.         2.23606798 2.12132034]\n",
      " [0.         0.         0.         0.70710678]\n",
      " [0.         0.         0.         0.        ]]\n",
      "[[-1.06066017 -0.35355339]\n",
      " [-1.06066017  0.35355339]\n",
      " [ 1.06066017 -0.35355339]\n",
      " [ 1.06066017  0.35355339]]\n",
      "[[ 5.55111512e-17  1.00000000e+00]\n",
      " [-5.00000000e-01  1.50000000e+00]\n",
      " [ 1.50000000e+00  2.50000000e+00]\n",
      " [ 1.00000000e+00  3.00000000e+00]]\n"
     ]
    }
   ],
   "metadata": {}
  },
  {
   "cell_type": "markdown",
   "source": [
    "# D  the two datasets coverted into 1-d form, and lies on the same places in the plot. they are similar"
   ],
   "metadata": {}
  },
  {
   "cell_type": "code",
   "execution_count": 42,
   "source": [
    "matrixD=np.array([[np.sqrt(1/2),np.sqrt(1/2)],[np.sqrt(1/2),2*np.sqrt(1/2)],[4*np.sqrt(1/2),np.sqrt(1/2)],[4*np.sqrt(1/2),2*np.sqrt(1/2)]])\r\n",
    "matrixD"
   ],
   "outputs": [
    {
     "output_type": "execute_result",
     "data": {
      "text/plain": [
       "array([[0.70710678, 0.70710678],\n",
       "       [0.70710678, 1.41421356],\n",
       "       [2.82842712, 0.70710678],\n",
       "       [2.82842712, 1.41421356]])"
      ]
     },
     "metadata": {},
     "execution_count": 42
    }
   ],
   "metadata": {}
  },
  {
   "cell_type": "code",
   "execution_count": 43,
   "source": [
    "a,_,lowM,newM=pca(matrixD,1)\r\n",
    "\r\n",
    "print(a)\r\n",
    "print(lowM)\r\n",
    "print(newM)"
   ],
   "outputs": [
    {
     "output_type": "stream",
     "name": "stdout",
     "text": [
      "[1.5        0.16666667]\n",
      "[[-1.06066017]\n",
      " [-1.06066017]\n",
      " [ 1.06066017]\n",
      " [ 1.06066017]]\n",
      "[[0.70710678 1.06066017]\n",
      " [0.70710678 1.06066017]\n",
      " [2.82842712 1.06066017]\n",
      " [2.82842712 1.06066017]]\n"
     ]
    }
   ],
   "metadata": {}
  },
  {
   "cell_type": "code",
   "execution_count": 43,
   "source": [
    "x=np.array(lowM)\r\n",
    "y=len(lowM)*[0]\r\n",
    "print(x,y)"
   ],
   "outputs": [
    {
     "output_type": "stream",
     "name": "stdout",
     "text": [
      "[[-1.06066017]\n",
      " [-1.06066017]\n",
      " [ 1.06066017]\n",
      " [ 1.06066017]] [0, 0, 0, 0]\n"
     ]
    }
   ],
   "metadata": {}
  },
  {
   "cell_type": "code",
   "execution_count": 52,
   "source": [
    "plt.scatter(np.array(lowM),len(lowM)*[0],label=\"New Dataset\",c='g')\r\n",
    "\r\n",
    "\r\n",
    "plt.xlabel(\"P1\")\r\n",
    "plt.ylabel(\"P2\")\r\n",
    "plt.legend(loc='upper left')\r\n",
    "plt.show()"
   ],
   "outputs": [
    {
     "output_type": "display_data",
     "data": {
      "image/png": "[encoded data removed]",
      "text/plain": [
       "<Figure size 432x288 with 1 Axes>"
      ]
     },
     "metadata": {
      "needs_background": "light"
     }
    }
   ],
   "metadata": {}
  },
  {
   "cell_type": "code",
   "execution_count": 53,
   "source": [
    "plt.scatter(np.array(c),len(c)*[0],label=\"Old Dataset\",c='r')\r\n",
    "plt.xlabel(\"P1\")\r\n",
    "plt.ylabel(\"P2\")\r\n",
    "plt.legend(loc='upper left')\r\n",
    "plt.show()"
   ],
   "outputs": [
    {
     "output_type": "display_data",
     "data": {
      "image/png": "[encoded data removed]",
      "text/plain": [
       "<Figure size 432x288 with 1 Axes>"
      ]
     },
     "metadata": {
      "needs_background": "light"
     }
    }
   ],
   "metadata": {}
  }
 ],
 "metadata": {
  "orig_nbformat": 4,
  "language_info": {
   "name": "python",
   "version": "3.6.13",
   "mimetype": "text/x-python",
   "codemirror_mode": {
    "name": "ipython",
    "version": 3
   },
   "pygments_lexer": "ipython3",
   "nbconvert_exporter": "python",
   "file_extension": ".py"
  },
  "kernelspec": {
   "name": "python3",
   "display_name": "Python 3.6.13 64-bit ('base': conda)"
  },
  "interpreter": {
   "hash": "07efdcd4b820c98a756949507a4d29d7862823915ec7477944641bea022f4f62"
  }
 },
 "nbformat": 4,
 "nbformat_minor": 2
}