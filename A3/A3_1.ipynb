{
 "cells": [
  {
   "cell_type": "code",
   "execution_count": 22,
   "metadata": {},
   "outputs": [],
   "source": [
    "import numpy as np\n",
    "import pandas as pd\n",
    "import math"
   ]
  },
  {
   "cell_type": "code",
   "execution_count": 17,
   "metadata": {},
   "outputs": [],
   "source": [
    "frx=[300,500,500,342,2,500,260,120,240,80,200,251]\n",
    "frxc=[125,150,400,240,2,352,100,32,100,32,100,203]\n",
    "\n",
    "pc=[0.3,0.3,0.7,0.7,0.7,0.7,0.3,0.3,0.3,0.3,0.3,0.7]\n",
    "\n",
    "px=np.array(frx)/1000\n",
    "pxc=np.array(frxc)/1000"
   ]
  },
  {
   "cell_type": "code",
   "execution_count": 18,
   "metadata": {},
   "outputs": [],
   "source": [
    "lift=pxc/(px*pc)\n",
    "leverage=pxc-(px*pc)"
   ]
  },
  {
   "cell_type": "code",
   "execution_count": 19,
   "metadata": {},
   "outputs": [
    {
     "name": "stdout",
     "output_type": "stream",
     "text": [
      "lift: [1.38888889 1.         1.14285714 1.00250627 1.42857143 1.00571429\n",
      " 1.28205128 0.88888889 1.38888889 1.33333333 1.66666667 1.15537849]\n",
      "leverage: [ 0.035   0.      0.05    0.0006  0.0006  0.002   0.022  -0.004   0.028\n",
      "  0.008   0.04    0.0273]\n"
     ]
    }
   ],
   "source": [
    "print(\"lift:\",lift)\n",
    "print(\"leverage:\",leverage)"
   ]
  },
  {
   "cell_type": "markdown",
   "metadata": {},
   "source": [
    "# Rule 8 : 0.889 ,-0.004  do not express positive rules"
   ]
  },
  {
   "cell_type": "markdown",
   "metadata": {},
   "source": []
  },
  {
   "cell_type": "code",
   "execution_count": 29,
   "metadata": {},
   "outputs": [],
   "source": [
    "def MI(px,pc,pxc,N):\n",
    "    pnx,pnc,=1-px,1-pc,\n",
    "\n",
    "    pnxc=pc-pxc\n",
    "    pxnc=px-pxc\n",
    "    pnxnc=1-pxc-pnxc-pxnc\n",
    "\n",
    "    #print(pnxc,pxnc)\n",
    "\n",
    "    part1=(pxc**pxc)*(pxnc**pxnc)*(pnxc**pnxc)*(pnxnc**pnxnc)\n",
    "\n",
    "    part2=(px**px)*(pnx**pnx)*(pc**pc)*(pnc**pnc)\n",
    "\n",
    "    M=math.log(part1/part2,2)\n",
    "    return M\n"
   ]
  },
  {
   "cell_type": "code",
   "execution_count": 30,
   "metadata": {},
   "outputs": [
    {
     "name": "stdout",
     "output_type": "stream",
     "text": [
      "[19.43558511395403, 0.0, 34.851554559676885, 0.005498059238843441, 1.0303849472080249, 0.054961040800631994, 8.398761583067323, 0.5307250666380409, 14.201862747021877, 2.846664406839241, 32.26839966338601, 14.46150435508552]\n"
     ]
    }
   ],
   "source": [
    "N=1000\n",
    "MIs=[]\n",
    "for i in range(len(px)):\n",
    "    re=MI(px[i],pc[i],pxc[i],N)\n",
    "    # print(re)\n",
    "    MIs.append(N*re)\n",
    "\n",
    "print(MIs)"
   ]
  },
  {
   "cell_type": "markdown",
   "metadata": {},
   "source": [
    "# Rule 2 4 5 6 8 out   <1.5"
   ]
  },
  {
   "cell_type": "markdown",
   "metadata": {},
   "source": [
    "# Remain Rules 1 3 7 9 10 11 12 for (C)\n",
    "\n",
    "# After (C\n",
    "\n",
    "1 3 7 still exist. smoking cause AD, high education will decrease the probability of AD, stress may also a factor leading to AZ."
   ]
  },
  {
   "cell_type": "markdown",
   "metadata": {},
   "source": [
    "# (e)\n",
    "\n",
    "## 1\n",
    "rule 5 turmeric-> Not AD. there are only 2 example in 1000 dataset. although the precision and lift can be high, it's not trustworthy. The size of rule 5 takes up too little of whole dataset.\n",
    "## 2\n",
    "rule 3 highereducation-> Not AD; rule 10 smoking, highereducation-> AD. Rule 10 express strong dependence of smoking and highereducation leads to AD, but seen from rule 3, highereducation are negatively associated with AD. Statistical dependence is not a monotonic property\n",
    "## 3\n",
    "rule 1 smoking->AD; rule 10 smoking, highereducation-> AD. if you only see rule 10, you may think a smoking person without education won't get AD.Because rule 10 is overfitting with rule 1. if rule 1 is strong, no wonder rule 10 will lead to strong, since rule 1 is part of rule 10.  "
   ]
  },
  {
   "cell_type": "markdown",
   "metadata": {},
   "source": []
  }
 ],
 "metadata": {
  "interpreter": {
   "hash": "c251d53cbc2a3003f8a89d1a62a02c97732d9c9c5b5e81abcd7d02d3b2d91aa7"
  },
  "kernelspec": {
   "display_name": "Python 3.5.6 64-bit ('Pytorch': conda)",
   "language": "python",
   "name": "python3"
  },
  "language_info": {
   "codemirror_mode": {
    "name": "ipython",
    "version": 3
   },
   "file_extension": ".py",
   "mimetype": "text/x-python",
   "name": "python",
   "nbconvert_exporter": "python",
   "pygments_lexer": "ipython3",
   "version": "3.5.5"
  },
  "orig_nbformat": 4
 },
 "nbformat": 4,
 "nbformat_minor": 2
}
