{
 "cells": [
  {
   "cell_type": "code",
   "execution_count": 1,
   "metadata": {},
   "outputs": [],
   "source": [
    "import numpy as np\n",
    "import pandas as pd\n",
    "import matplotlib.pyplot as plt"
   ]
  },
  {
   "cell_type": "code",
   "execution_count": 18,
   "metadata": {},
   "outputs": [
    {
     "data": {
      "text/html": [
       "<div>\n",
       "<style scoped>\n",
       "    .dataframe tbody tr th:only-of-type {\n",
       "        vertical-align: middle;\n",
       "    }\n",
       "\n",
       "    .dataframe tbody tr th {\n",
       "        vertical-align: top;\n",
       "    }\n",
       "\n",
       "    .dataframe thead th {\n",
       "        text-align: right;\n",
       "    }\n",
       "</style>\n",
       "<table border=\"1\" class=\"dataframe\">\n",
       "  <thead>\n",
       "    <tr style=\"text-align: right;\">\n",
       "      <th></th>\n",
       "      <th>m1</th>\n",
       "      <th>m2</th>\n",
       "      <th>m3</th>\n",
       "      <th>m4</th>\n",
       "      <th>m5</th>\n",
       "      <th>m6</th>\n",
       "    </tr>\n",
       "  </thead>\n",
       "  <tbody>\n",
       "    <tr>\n",
       "      <th>0</th>\n",
       "      <td>3.0</td>\n",
       "      <td>1</td>\n",
       "      <td>2.0</td>\n",
       "      <td>2.0</td>\n",
       "      <td>NaN</td>\n",
       "      <td>2.0</td>\n",
       "    </tr>\n",
       "    <tr>\n",
       "      <th>1</th>\n",
       "      <td>4.0</td>\n",
       "      <td>2</td>\n",
       "      <td>3.0</td>\n",
       "      <td>3.0</td>\n",
       "      <td>4.0</td>\n",
       "      <td>2.0</td>\n",
       "    </tr>\n",
       "    <tr>\n",
       "      <th>2</th>\n",
       "      <td>4.0</td>\n",
       "      <td>1</td>\n",
       "      <td>3.0</td>\n",
       "      <td>3.0</td>\n",
       "      <td>2.0</td>\n",
       "      <td>5.0</td>\n",
       "    </tr>\n",
       "    <tr>\n",
       "      <th>3</th>\n",
       "      <td>NaN</td>\n",
       "      <td>3</td>\n",
       "      <td>4.0</td>\n",
       "      <td>4.0</td>\n",
       "      <td>5.0</td>\n",
       "      <td>NaN</td>\n",
       "    </tr>\n",
       "    <tr>\n",
       "      <th>4</th>\n",
       "      <td>2.0</td>\n",
       "      <td>5</td>\n",
       "      <td>5.0</td>\n",
       "      <td>NaN</td>\n",
       "      <td>3.0</td>\n",
       "      <td>3.0</td>\n",
       "    </tr>\n",
       "    <tr>\n",
       "      <th>5</th>\n",
       "      <td>1.0</td>\n",
       "      <td>4</td>\n",
       "      <td>NaN</td>\n",
       "      <td>5.0</td>\n",
       "      <td>NaN</td>\n",
       "      <td>NaN</td>\n",
       "    </tr>\n",
       "  </tbody>\n",
       "</table>\n",
       "</div>"
      ],
      "text/plain": [
       "    m1  m2   m3   m4   m5   m6\n",
       "0  3.0   1  2.0  2.0  NaN  2.0\n",
       "1  4.0   2  3.0  3.0  4.0  2.0\n",
       "2  4.0   1  3.0  3.0  2.0  5.0\n",
       "3  NaN   3  4.0  4.0  5.0  NaN\n",
       "4  2.0   5  5.0  NaN  3.0  3.0\n",
       "5  1.0   4  NaN  5.0  NaN  NaN"
      ]
     },
     "execution_count": 18,
     "metadata": {},
     "output_type": "execute_result"
    }
   ],
   "source": [
    "d={\"m1\":[3,4,4,np.nan,2,1],\"m2\":[1,2,1,3,5,4],\"m3\":[2,3,3,4,5,np.nan],\"m4\":[2,3,3,4,np.nan,5],\"m5\":[np.nan,4,2,5,3,np.nan],\"m6\":[2,2,5,np.nan,3,np.nan]}\n",
    "records=pd.DataFrame(d)\n",
    "\n",
    "records"
   ]
  },
  {
   "cell_type": "code",
   "execution_count": 19,
   "metadata": {},
   "outputs": [
    {
     "data": {
      "text/plain": [
       "array([2.  , 3.  , 3.  , 4.  , 3.6 , 3.33])"
      ]
     },
     "execution_count": 19,
     "metadata": {},
     "output_type": "execute_result"
    }
   ],
   "source": [
    "Mnums=np.array([5,6,6,4,5,3])\n",
    "ratingSum=np.array(records.sum(axis=1))\n",
    "avg=np.round(ratingSum/Mnums,2)\n",
    "avg "
   ]
  },
  {
   "cell_type": "code",
   "execution_count": 21,
   "metadata": {},
   "outputs": [
    {
     "data": {
      "text/html": [
       "<div>\n",
       "<style scoped>\n",
       "    .dataframe tbody tr th:only-of-type {\n",
       "        vertical-align: middle;\n",
       "    }\n",
       "\n",
       "    .dataframe tbody tr th {\n",
       "        vertical-align: top;\n",
       "    }\n",
       "\n",
       "    .dataframe thead th {\n",
       "        text-align: right;\n",
       "    }\n",
       "</style>\n",
       "<table border=\"1\" class=\"dataframe\">\n",
       "  <thead>\n",
       "    <tr style=\"text-align: right;\">\n",
       "      <th></th>\n",
       "      <th>0</th>\n",
       "      <th>1</th>\n",
       "      <th>2</th>\n",
       "      <th>3</th>\n",
       "      <th>4</th>\n",
       "      <th>5</th>\n",
       "    </tr>\n",
       "  </thead>\n",
       "  <tbody>\n",
       "    <tr>\n",
       "      <th>0</th>\n",
       "      <td>1.000000</td>\n",
       "      <td>0.845154</td>\n",
       "      <td>0.715097</td>\n",
       "      <td>1.000000</td>\n",
       "      <td>-0.816497</td>\n",
       "      <td>-0.720577</td>\n",
       "    </tr>\n",
       "    <tr>\n",
       "      <th>1</th>\n",
       "      <td>0.845154</td>\n",
       "      <td>1.000000</td>\n",
       "      <td>0.000000</td>\n",
       "      <td>1.000000</td>\n",
       "      <td>-0.559017</td>\n",
       "      <td>-0.720577</td>\n",
       "    </tr>\n",
       "    <tr>\n",
       "      <th>2</th>\n",
       "      <td>0.715097</td>\n",
       "      <td>0.000000</td>\n",
       "      <td>1.000000</td>\n",
       "      <td>0.426401</td>\n",
       "      <td>-0.589256</td>\n",
       "      <td>-0.576557</td>\n",
       "    </tr>\n",
       "    <tr>\n",
       "      <th>3</th>\n",
       "      <td>1.000000</td>\n",
       "      <td>1.000000</td>\n",
       "      <td>0.426401</td>\n",
       "      <td>1.000000</td>\n",
       "      <td>-0.866025</td>\n",
       "      <td>1.000000</td>\n",
       "    </tr>\n",
       "    <tr>\n",
       "      <th>4</th>\n",
       "      <td>-0.816497</td>\n",
       "      <td>-0.559017</td>\n",
       "      <td>-0.589256</td>\n",
       "      <td>-0.866025</td>\n",
       "      <td>1.000000</td>\n",
       "      <td>1.000000</td>\n",
       "    </tr>\n",
       "    <tr>\n",
       "      <th>5</th>\n",
       "      <td>-0.720577</td>\n",
       "      <td>-0.720577</td>\n",
       "      <td>-0.576557</td>\n",
       "      <td>1.000000</td>\n",
       "      <td>1.000000</td>\n",
       "      <td>1.000000</td>\n",
       "    </tr>\n",
       "  </tbody>\n",
       "</table>\n",
       "</div>"
      ],
      "text/plain": [
       "          0         1         2         3         4         5\n",
       "0  1.000000  0.845154  0.715097  1.000000 -0.816497 -0.720577\n",
       "1  0.845154  1.000000  0.000000  1.000000 -0.559017 -0.720577\n",
       "2  0.715097  0.000000  1.000000  0.426401 -0.589256 -0.576557\n",
       "3  1.000000  1.000000  0.426401  1.000000 -0.866025  1.000000\n",
       "4 -0.816497 -0.559017 -0.589256 -0.866025  1.000000  1.000000\n",
       "5 -0.720577 -0.720577 -0.576557  1.000000  1.000000  1.000000"
      ]
     },
     "execution_count": 21,
     "metadata": {},
     "output_type": "execute_result"
    }
   ],
   "source": [
    "sim=records.T.corr()\n",
    "sim"
   ]
  },
  {
   "cell_type": "code",
   "execution_count": 47,
   "metadata": {},
   "outputs": [],
   "source": [
    "\n",
    "def predict(user,movie,NN,avg,sim):\n",
    "    movies=np.array(records.iloc[:,movie])\n",
    "\n",
    "    m1,m2=movies[NN[0]]-avg[NN[0]],movies[NN[1]] -avg[NN[1]]\n",
    "    s1,s2=sim.iloc[user,NN[0]],sim.iloc[user,NN[1]]\n",
    "    \n",
    "    rating=(s1*m1+s2*m2)/(s1+s2)+avg[user]\n",
    "    return round(rating,2), rating>avg[user]\n",
    "\n"
   ]
  },
  {
   "cell_type": "code",
   "execution_count": 48,
   "metadata": {},
   "outputs": [],
   "source": [
    "r_4_1=predict(3,0,[0,1],avg,sim)\n",
    "r_6_3=predict(5,2,[3,4],avg,sim)\n",
    "#r_5_4=predict(4,3,[3,4],avg,sim)  # fail only 1NN\n",
    "\n",
    "r_1_5=predict(0,4,[1,3],avg,sim)\n",
    "r_6_5=predict(5,4,[3,4],avg,sim)\n",
    "r_4_6=predict(3,5,[0,1],avg,sim)\n",
    "#r_6_6=predict(5,5,[3,4],avg,sim)  # fail only 1NN\n",
    "\n",
    "re=list([r_4_1,r_6_3,r_1_5,r_6_5,r_4_6])\n"
   ]
  },
  {
   "cell_type": "code",
   "execution_count": 49,
   "metadata": {},
   "outputs": [
    {
     "data": {
      "text/plain": [
       "[(5.0, True), (4.03, True), (3.0, True), (3.53, True), (3.5, False)]"
      ]
     },
     "execution_count": 49,
     "metadata": {},
     "output_type": "execute_result"
    }
   ],
   "source": [
    "re"
   ]
  },
  {
   "cell_type": "code",
   "execution_count": null,
   "metadata": {},
   "outputs": [],
   "source": []
  }
 ],
 "metadata": {
  "interpreter": {
   "hash": "c251d53cbc2a3003f8a89d1a62a02c97732d9c9c5b5e81abcd7d02d3b2d91aa7"
  },
  "kernelspec": {
   "display_name": "Python 3.5.6 64-bit ('Pytorch': conda)",
   "language": "python",
   "name": "python3"
  },
  "language_info": {
   "codemirror_mode": {
    "name": "ipython",
    "version": 3
   },
   "file_extension": ".py",
   "mimetype": "text/x-python",
   "name": "python",
   "nbconvert_exporter": "python",
   "pygments_lexer": "ipython3",
   "version": "3.6.13"
  },
  "orig_nbformat": 4
 },
 "nbformat": 4,
 "nbformat_minor": 2
}
